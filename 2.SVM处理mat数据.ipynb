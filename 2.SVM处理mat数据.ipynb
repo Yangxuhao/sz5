{
 "cells": [
  {
   "cell_type": "code",
   "execution_count": 3,
   "metadata": {
    "collapsed": true
   },
   "outputs": [],
   "source": [
    "import numpy as np\n",
    "import pandas as pd\n",
    "import matplotlib.pyplot as plt\n",
    "%matplotlib inline"
   ]
  },
  {
   "cell_type": "code",
   "execution_count": 4,
   "metadata": {},
   "outputs": [],
   "source": [
    "from scipy.io import loadmat\n",
    "path=r\"C:\\Users\\xuhao_yang\\PycharmProjects\\sz5\\data\\ex6data1.mat\""
   ]
  },
  {
   "cell_type": "code",
   "execution_count": 5,
   "metadata": {},
   "outputs": [
    {
     "data": {
      "text/plain": [
       "{'__header__': b'MATLAB 5.0 MAT-file, Platform: GLNXA64, Created on: Sun Nov 13 14:28:43 2011',\n '__version__': '1.0',\n '__globals__': [],\n 'X': array([[1.9643  , 4.5957  ],\n        [2.2753  , 3.8589  ],\n        [2.9781  , 4.5651  ],\n        [2.932   , 3.5519  ],\n        [3.5772  , 2.856   ],\n        [4.015   , 3.1937  ],\n        [3.3814  , 3.4291  ],\n        [3.9113  , 4.1761  ],\n        [2.7822  , 4.0431  ],\n        [2.5518  , 4.6162  ],\n        [3.3698  , 3.9101  ],\n        [3.1048  , 3.0709  ],\n        [1.9182  , 4.0534  ],\n        [2.2638  , 4.3706  ],\n        [2.6555  , 3.5008  ],\n        [3.1855  , 4.2888  ],\n        [3.6579  , 3.8692  ],\n        [3.9113  , 3.4291  ],\n        [3.6002  , 3.1221  ],\n        [3.0357  , 3.3165  ],\n        [1.5841  , 3.3575  ],\n        [2.0103  , 3.2039  ],\n        [1.9527  , 2.7843  ],\n        [2.2753  , 2.7127  ],\n        [2.3099  , 2.9584  ],\n        [2.8283  , 2.6309  ],\n        [3.0473  , 2.2931  ],\n        [2.4827  , 2.0373  ],\n        [2.5057  , 2.3853  ],\n        [1.8721  , 2.0577  ],\n        [2.0103  , 2.3546  ],\n        [1.2269  , 2.3239  ],\n        [1.8951  , 2.9174  ],\n        [1.561   , 3.0709  ],\n        [1.5495  , 2.6923  ],\n        [1.6878  , 2.4057  ],\n        [1.4919  , 2.0271  ],\n        [0.962   , 2.682   ],\n        [1.1693  , 2.9276  ],\n        [0.8122  , 2.9992  ],\n        [0.9735  , 3.3881  ],\n        [1.25    , 3.1937  ],\n        [1.3191  , 3.5109  ],\n        [2.2292  , 2.201   ],\n        [2.4482  , 2.6411  ],\n        [2.7938  , 1.9656  ],\n        [2.091   , 1.6177  ],\n        [2.5403  , 2.8867  ],\n        [0.9044  , 3.0198  ],\n        [0.76615 , 2.5899  ],\n        [0.086405, 4.1045  ]]),\n 'y': array([[1],\n        [1],\n        [1],\n        [1],\n        [1],\n        [1],\n        [1],\n        [1],\n        [1],\n        [1],\n        [1],\n        [1],\n        [1],\n        [1],\n        [1],\n        [1],\n        [1],\n        [1],\n        [1],\n        [1],\n        [0],\n        [0],\n        [0],\n        [0],\n        [0],\n        [0],\n        [0],\n        [0],\n        [0],\n        [0],\n        [0],\n        [0],\n        [0],\n        [0],\n        [0],\n        [0],\n        [0],\n        [0],\n        [0],\n        [0],\n        [0],\n        [0],\n        [0],\n        [0],\n        [0],\n        [0],\n        [0],\n        [0],\n        [0],\n        [0],\n        [1]], dtype=uint8)}"
      ]
     },
     "execution_count": 5,
     "metadata": {},
     "output_type": "execute_result"
    }
   ],
   "source": [
    "data=loadmat(path)\n",
    "data"
   ]
  },
  {
   "cell_type": "code",
   "execution_count": 6,
   "metadata": {},
   "outputs": [
    {
     "data": {
      "text/plain": [
       "dict_keys(['__header__', '__version__', '__globals__', 'X', 'y'])"
      ]
     },
     "execution_count": 6,
     "metadata": {},
     "output_type": "execute_result"
    }
   ],
   "source": [
    "data.keys()"
   ]
  },
  {
   "cell_type": "code",
   "execution_count": 7,
   "metadata": {},
   "outputs": [],
   "source": [
    "from sklearn.svm import SVC,LinearSVC"
   ]
  },
  {
   "cell_type": "code",
   "execution_count": 9,
   "metadata": {},
   "outputs": [
    {
     "name": "stderr",
     "output_type": "stream",
     "text": [
      "C:\\Users\\xuhao_yang\\AppData\\Roaming\\Python\\Python36\\site-packages\\sklearn\\svm\\base.py:196: FutureWarning: The default value of gamma will change from 'auto' to 'scale' in version 0.22 to account better for unscaled features. Set gamma explicitly to 'auto' or 'scale' to avoid this warning.\n  \"avoid this warning.\", FutureWarning)\nC:\\Users\\xuhao_yang\\AppData\\Roaming\\Python\\Python36\\site-packages\\sklearn\\svm\\base.py:196: FutureWarning: The default value of gamma will change from 'auto' to 'scale' in version 0.22 to account better for unscaled features. Set gamma explicitly to 'auto' or 'scale' to avoid this warning.\n  \"avoid this warning.\", FutureWarning)\n"
     ]
    },
    {
     "data": {
      "text/plain": [
       "SVC(C=1.0, cache_size=200, class_weight=None, coef0=0.0,\n  decision_function_shape='ovr', degree=3, gamma='auto_deprecated',\n  kernel='poly', max_iter=-1, probability=False, random_state=None,\n  shrinking=True, tol=0.001, verbose=False)"
      ]
     },
     "execution_count": 9,
     "metadata": {},
     "output_type": "execute_result"
    }
   ],
   "source": [
    "linear_svc=LinearSVC()\n",
    "svc_linear=SVC(kernel=\"linear\")\n",
    "svc_rbf=SVC(kernel=\"rbf\")\n",
    "svc_poly=SVC(kernel=\"poly\")\n",
    "x=data[\"X\"]\n",
    "y=data[\"y\"]\n",
    "linear_svc.fit(x,y.ravel())\n",
    "svc_linear.fit(x,y.ravel())\n",
    "svc_rbf.fit(x,y.ravel())\n",
    "svc_poly.fit(x,y.ravel())"
   ]
  },
  {
   "cell_type": "code",
   "execution_count": 10,
   "metadata": {},
   "outputs": [
    {
     "data": {
      "text/plain": [
       "0.9803921568627451"
      ]
     },
     "execution_count": 10,
     "metadata": {},
     "output_type": "execute_result"
    }
   ],
   "source": [
    "linear_svc.score(x,y.ravel())"
   ]
  },
  {
   "cell_type": "code",
   "execution_count": 11,
   "metadata": {},
   "outputs": [
    {
     "data": {
      "text/plain": [
       "0.9803921568627451"
      ]
     },
     "execution_count": 11,
     "metadata": {},
     "output_type": "execute_result"
    }
   ],
   "source": [
    "svc_linear.score(x,y.ravel())"
   ]
  },
  {
   "cell_type": "code",
   "execution_count": 12,
   "metadata": {},
   "outputs": [
    {
     "data": {
      "text/plain": [
       "1.0"
      ]
     },
     "execution_count": 12,
     "metadata": {},
     "output_type": "execute_result"
    }
   ],
   "source": [
    "svc_rbf.score(x,y.ravel())"
   ]
  },
  {
   "cell_type": "code",
   "execution_count": 13,
   "metadata": {},
   "outputs": [
    {
     "data": {
      "text/plain": [
       "1.0"
      ]
     },
     "execution_count": 13,
     "metadata": {},
     "output_type": "execute_result"
    }
   ],
   "source": [
    "svc_poly.score(x,y.ravel())"
   ]
  },
  {
   "cell_type": "code",
   "execution_count": 55,
   "metadata": {},
   "outputs": [],
   "source": [
    "def plot_svc(svc,x,y,h=0.02):\n",
    "    x_min,x_max=x[:,0].min()-1,x[:,0].max()+1\n",
    "    y_min,y_max=x[:,1].min()-1,x[:,1].max()+1\n",
    "    xx,yy=np.meshgrid(np.arange(x_min,x_max,h),\n",
    "                      np.arange(y_min,y_max,h))\n",
    "    Z=svc.predict(np.c_[xx.ravel(),yy.ravel()])\n",
    "    Z=Z.reshape(xx.shape)\n",
    "    plt.contour(xx,yy,Z,cmap=plt.cm.RdYlBu,alpha=0.2)\n",
    "    plt.scatter(x[:,0],x[:,1],s=10,c=y.ravel(),cmap=\"rainbow\")\n",
    "    sv=svc.support_vectors_\n",
    "    plt.scatter(sv[:,0],sv[:,1],c=\"k\",linewidths=\"1\")\n",
    "    plt.xlim(x_min,x_max)\n",
    "    plt.ylim(y_min,y_max)\n",
    "    plt.show()"
   ]
  },
  {
   "cell_type": "code",
   "execution_count": 56,
   "metadata": {},
   "outputs": [
    {
     "data": {
      "image/png": "[encoded data removed]",
      "text/plain": [
       "<Figure size 432x288 with 1 Axes>"
      ]
     },
     "metadata": {},
     "output_type": "display_data"
    }
   ],
   "source": [
    "plot_svc(svc_poly,x,y)\n",
    "# linear_svc.support_vectors"
   ]
  },
  {
   "cell_type": "code",
   "execution_count": null,
   "metadata": {},
   "outputs": [],
   "source": [
    ""
   ]
  }
 ],
 "metadata": {
  "kernelspec": {
   "display_name": "Python 2",
   "language": "python",
   "name": "python2"
  },
  "language_info": {
   "codemirror_mode": {
    "name": "ipython",
    "version": 2.0
   },
   "file_extension": ".py",
   "mimetype": "text/x-python",
   "name": "python",
   "nbconvert_exporter": "python",
   "pygments_lexer": "ipython2",
   "version": "2.7.6"
  }
 },
 "nbformat": 4,
 "nbformat_minor": 0
}